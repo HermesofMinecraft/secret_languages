{
 "cells": [
  {
   "cell_type": "code",
   "execution_count": null,
   "metadata": {},
   "outputs": [],
   "source": [
    "import random\n",
    "\n",
    "for number_of_words in range(1,100):\n",
    "    value=random.randint (1, 10000200)\n",
    "    print (value"
   ]
  },
  {
   "cell_type": "code",
   "execution_count": 2,
   "metadata": {},
   "outputs": [],
   "source": [
    "import random\n",
    "\n",
    "wills_list=list()\n",
    "for number_of_words in range(1,6):\n",
    "     \n",
    "    wills_list.append('a = ' + str(random.randint (1,1000)))\n",
    "    wills_list.append('b = ' + str(random.randint (1,1000)))\n",
    "    wills_list.append('c = ' + str(random.randint (1,1000)))\n",
    "    wills_list.append('d = ' + str(random.randint (1,1000)))\n",
    "    wills_list.append('e = ' + str(random.randint (1,1000)))\n",
    "    wills_list.append('f = ' + str(random.randint (1,1000)))\n",
    "    wills_list.append('g = ' + str(random.randint (1,1000)))\n",
    "    wills_list.append('h = ' + str(random.randint (1,1000)))\n",
    "    wills_list.append('i = ' + str(random.randint (1,1000)))\n",
    "    wills_list.append('j = ' + str(random.randint (1,1000)))\n",
    "    wills_list.append('k = ' + str(random.randint (1,1000)))\n",
    "    wills_list.append('l = ' + str(random.randint (1,1000)))\n",
    "    wills_list.append('m = ' + str(random.randint (1,1000)))\n",
    "    wills_list.append('n = ' + str(random.randint (1,1000)))\n",
    "    wills_list.append('o = ' + str(random.randint (1,1000)))\n",
    "    wills_list.append('p = ' + str(random.randint (1,1000)))\n",
    "    wills_list.append('q = ' + str(random.randint (1,1000)))\n",
    "    wills_list.append('r = ' + str(random.randint (1,1000)))\n",
    "    wills_list.append('s = ' + str(random.randint (1,1000)))\n",
    "    wills_list.append('t = ' + str(random.randint (1,1000)))\n",
    "    wills_list.append('u = ' + str(random.randint (1,1000)))\n",
    "    wills_list.append('v = ' + str(random.randint (1,1000)))\n",
    "    wills_list.append('w = ' + str(random.randint (1,1000)))\n",
    "    wills_list.append('x = ' + str(random.randint (1,1000)))\n",
    "    wills_list.append('y = ' + str(random.randint (1,1000)))\n",
    "    wills_list.append('z = ' + str(random.randint (1,1000)))\n"
   ]
  },
  {
   "cell_type": "code",
   "execution_count": 3,
   "metadata": {},
   "outputs": [
    {
     "data": {
      "text/plain": [
       "130"
      ]
     },
     "execution_count": 3,
     "metadata": {},
     "output_type": "execute_result"
    }
   ],
   "source": [
    "len(wills_list)"
   ]
  },
  {
   "cell_type": "code",
   "execution_count": 4,
   "metadata": {},
   "outputs": [
    {
     "name": "stdout",
     "output_type": "stream",
     "text": [
      "['a = 579', 'b = 862', 'c = 754', 'd = 790', 'e = 183', 'f = 587', 'g = 913', 'h = 259', 'i = 471', 'j = 269', 'k = 481', 'l = 286', 'm = 772', 'n = 793', 'o = 514', 'p = 315', 'q = 812', 'r = 558', 's = 397', 't = 579', 'u = 818', 'v = 592', 'w = 309', 'x = 447', 'y = 77', 'z = 530', 'a = 193', 'b = 466', 'c = 242', 'd = 340', 'e = 917', 'f = 842', 'g = 269', 'h = 485', 'i = 793', 'j = 15', 'k = 648', 'l = 446', 'm = 674', 'n = 945', 'o = 702', 'p = 51', 'q = 992', 'r = 605', 's = 759', 't = 519', 'u = 901', 'v = 393', 'w = 325', 'x = 242', 'y = 502', 'z = 420', 'a = 391', 'b = 633', 'c = 647', 'd = 941', 'e = 499', 'f = 390', 'g = 504', 'h = 92', 'i = 388', 'j = 68', 'k = 480', 'l = 343', 'm = 785', 'n = 865', 'o = 1', 'p = 894', 'q = 306', 'r = 304', 's = 247', 't = 157', 'u = 165', 'v = 403', 'w = 729', 'x = 625', 'y = 663', 'z = 580', 'a = 344', 'b = 5', 'c = 18', 'd = 368', 'e = 520', 'f = 468', 'g = 434', 'h = 968', 'i = 150', 'j = 559', 'k = 673', 'l = 317', 'm = 350', 'n = 516', 'o = 373', 'p = 741', 'q = 581', 'r = 895', 's = 646', 't = 303', 'u = 713', 'v = 463', 'w = 795', 'x = 249', 'y = 897', 'z = 764', 'a = 719', 'b = 403', 'c = 429', 'd = 377', 'e = 588', 'f = 741', 'g = 466', 'h = 795', 'i = 823', 'j = 804', 'k = 234', 'l = 55', 'm = 224', 'n = 123', 'o = 178', 'p = 380', 'q = 836', 'r = 131', 's = 157', 't = 104', 'u = 755', 'v = 259', 'w = 395', 'x = 450', 'y = 536', 'z = 696']\n"
     ]
    }
   ],
   "source": [
    "print(wills_list)"
   ]
  },
  {
   "cell_type": "code",
   "execution_count": null,
   "metadata": {},
   "outputs": [],
   "source": []
  }
 ],
 "metadata": {
  "kernelspec": {
   "display_name": "Python 3",
   "language": "python",
   "name": "python3"
  },
  "language_info": {
   "codemirror_mode": {
    "name": "ipython",
    "version": 3
   },
   "file_extension": ".py",
   "mimetype": "text/x-python",
   "name": "python",
   "nbconvert_exporter": "python",
   "pygments_lexer": "ipython3",
   "version": "3.6.4"
  }
 },
 "nbformat": 4,
 "nbformat_minor": 2
}
