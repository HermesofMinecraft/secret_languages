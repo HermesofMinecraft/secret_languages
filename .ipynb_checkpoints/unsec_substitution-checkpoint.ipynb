{
 "cells": [
  {
   "cell_type": "code",
   "execution_count": null,
   "metadata": {},
   "outputs": [],
   "source": [
    "import random\n",
    "\n",
    "for number_of_words in range(1,100):\n",
    "    value=random.randint (1, 10000200)\n"
   ]
  },
  {
   "cell_type": "code",
   "execution_count": 1,
   "metadata": {},
   "outputs": [],
   "source": []
  },
  {
   "cell_type": "code",
   "execution_count": 2,
   "metadata": {},
   "outputs": [
    {
     "data": {
      "text/plain": [
       "26"
      ]
     },
     "execution_count": 2,
     "metadata": {},
     "output_type": "execute_result"
    }
   ],
   "source": [
    "len(wills_list)"
   ]
  },
  {
   "cell_type": "code",
   "execution_count": 3,
   "metadata": {},
   "outputs": [
    {
     "name": "stdout",
     "output_type": "stream",
     "text": [
      "['a = 354', 'b = 86', 'c = 897', 'd = 634', 'e = 687', 'f = 728', 'g = 476', 'h = 812', 'i = 510', 'j = 269', 'k = 291', 'l = 380', 'm = 557', 'n = 993', 'o = 276', 'p = 408', 'q = 287', 'r = 306', 's = 771', 't = 3', 'u = 55', 'v = 393', 'w = 543', 'x = 795', 'y = 593', 'z = 881']\n"
     ]
    }
   ],
   "source": [
    "print(wills_list)"
   ]
  },
  {
   "cell_type": "code",
   "execution_count": null,
   "metadata": {},
   "outputs": [],
   "source": []
  }
 ],
 "metadata": {
  "kernelspec": {
   "display_name": "Python 3",
   "language": "python",
   "name": "python3"
  },
  "language_info": {
   "codemirror_mode": {
    "name": "ipython",
    "version": 3
   },
   "file_extension": ".py",
   "mimetype": "text/x-python",
   "name": "python",
   "nbconvert_exporter": "python",
   "pygments_lexer": "ipython3",
   "version": "3.6.4"
  }
 },
 "nbformat": 4,
 "nbformat_minor": 2
}
